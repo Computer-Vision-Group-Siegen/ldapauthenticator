{
 "cells": [
  {
   "cell_type": "code",
   "execution_count": null,
   "metadata": {},
   "outputs": [],
   "source": [
    "%load_ext autoreload\n",
    "%autoreload 2\n",
    "%load_ext dotenv\n",
    "%dotenv ../.env\n",
    "from ldapauthenticator.tests.conftest import get_authenticator, getenvvar\n",
    "import os\n",
    "import logging\n",
    "logger = logging.getLogger()\n",
    "logger.setLevel(logging.DEBUG)\n",
    "authenticator = get_authenticator()"
   ]
  },
  {
   "cell_type": "code",
   "execution_count": null,
   "metadata": {},
   "outputs": [],
   "source": [
    "username, userdn = authenticator.resolve_username(getenvvar(\"TEST_USER\"))\n",
    "username, userdn"
   ]
  },
  {
   "cell_type": "code",
   "execution_count": null,
   "metadata": {},
   "outputs": [],
   "source": [
    "authenticator.use_lookup_dn_user_for_group_lookup = True"
   ]
  },
  {
   "cell_type": "code",
   "execution_count": null,
   "metadata": {},
   "outputs": [],
   "source": [
    "ft = authenticator.authenticate(handler=None, data=dict(username=getenvvar(\"TEST_USER\"), password=getenvvar(\"TEST_PASSWORD\")))\n",
    "ft.result()"
   ]
  },
  {
   "cell_type": "code",
   "execution_count": null,
   "metadata": {},
   "outputs": [],
   "source": [
    "import ldap3\n",
    "username, userdn = authenticator.resolve_username(getenvvar(\"TEST_USER\"))\n",
    "\n",
    "conn = authenticator.get_connection(getenvvar(\"LDAP_SEARCH_USER\"), getenvvar(\"LDAP_SEARCH_PASSWORD\"))\n",
    "group = getenvvar(\"TEST_GROUP\")\n",
    "found = False\n",
    "group_filter = (\n",
    "    \"(|\"\n",
    "    \"(member={userdn})\"\n",
    "    \"(uniqueMember={userdn})\"\n",
    "    \"(memberUid={uid})\"\n",
    "    \")\"\n",
    ")\n",
    "group_filter = group_filter.format(userdn=userdn, uid=username)\n",
    "group_attributes = [\"member\", \"uniqueMember\", \"memberUid\"]\n",
    "found = conn.search(\n",
    "    group,\n",
    "    search_scope=ldap3.BASE,\n",
    "    search_filter=group_filter,\n",
    "    attributes=group_attributes,\n",
    ")\n",
    "print(found)"
   ]
  }
 ],
 "metadata": {
  "kernelspec": {
   "display_name": "students-hub-Mabfj7wH-py3.9",
   "language": "python",
   "name": "python3"
  },
  "language_info": {
   "codemirror_mode": {
    "name": "ipython",
    "version": 3
   },
   "file_extension": ".py",
   "mimetype": "text/x-python",
   "name": "python",
   "nbconvert_exporter": "python",
   "pygments_lexer": "ipython3",
   "version": "3.9.13"
  },
  "orig_nbformat": 4
 },
 "nbformat": 4,
 "nbformat_minor": 2
}
